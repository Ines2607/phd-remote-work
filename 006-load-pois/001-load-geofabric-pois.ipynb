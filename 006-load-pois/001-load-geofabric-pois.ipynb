{
 "cells": [
  {
   "cell_type": "markdown",
   "metadata": {},
   "source": [
    "Description:"
   ]
  },
  {
   "cell_type": "code",
   "execution_count": 1,
   "metadata": {},
   "outputs": [],
   "source": [
    "import pandas as pd\n",
    "from geofunctions import utils\n",
    "import geopandas as gpd"
   ]
  },
  {
   "cell_type": "code",
   "execution_count": 2,
   "metadata": {},
   "outputs": [
    {
     "data": {
      "text/plain": [
       "<module 'geofunctions.utils' from '/Users/inessat/Documents/phd/empirics/israel/notebooks/phd-remote-work/geofunctions/utils.py'>"
      ]
     },
     "execution_count": 2,
     "metadata": {},
     "output_type": "execute_result"
    }
   ],
   "source": [
    "import importlib\n",
    "\n",
    "importlib.reload(utils)"
   ]
  },
  {
   "cell_type": "code",
   "execution_count": 3,
   "metadata": {},
   "outputs": [],
   "source": [
    "keywords = [\"pois\"]\n",
    "dir_path = utils.get_path(\"raw\", \"osm\", \"israel-and-palestine-latest-free.shp\")"
   ]
  },
  {
   "cell_type": "code",
   "execution_count": 4,
   "metadata": {},
   "outputs": [
    {
     "name": "stdout",
     "output_type": "stream",
     "text": [
      "gis_osm_pois_free_1.shp\n",
      "gis_osm_pois_a_free_1.shp\n"
     ]
    }
   ],
   "source": [
    "import os\n",
    "\n",
    "list_files = []\n",
    "for file in os.listdir(dir_path):\n",
    "    if str.endswith(file, \"shp\") and len([i for i in keywords if i in file]) > 0:\n",
    "        print(file)\n",
    "        df = gpd.read_file(os.path.join(dir_path, file))\n",
    "        df[\"file\"] = file\n",
    "        list_files.append(df)\n",
    "df_full = pd.concat(list_files)"
   ]
  },
  {
   "cell_type": "code",
   "execution_count": 14,
   "metadata": {},
   "outputs": [
    {
     "data": {
      "text/plain": [
       "(97728, 6)"
      ]
     },
     "execution_count": 14,
     "metadata": {},
     "output_type": "execute_result"
    }
   ],
   "source": [
    "df_full.shape"
   ]
  },
  {
   "cell_type": "code",
   "execution_count": 15,
   "metadata": {},
   "outputs": [
    {
     "data": {
      "text/html": [
       "<div>\n",
       "<style scoped>\n",
       "    .dataframe tbody tr th:only-of-type {\n",
       "        vertical-align: middle;\n",
       "    }\n",
       "\n",
       "    .dataframe tbody tr th {\n",
       "        vertical-align: top;\n",
       "    }\n",
       "\n",
       "    .dataframe thead th {\n",
       "        text-align: right;\n",
       "    }\n",
       "</style>\n",
       "<table border=\"1\" class=\"dataframe\">\n",
       "  <thead>\n",
       "    <tr style=\"text-align: right;\">\n",
       "      <th></th>\n",
       "      <th>osm_id</th>\n",
       "      <th>code</th>\n",
       "      <th>fclass</th>\n",
       "      <th>name</th>\n",
       "      <th>geometry</th>\n",
       "      <th>file</th>\n",
       "    </tr>\n",
       "  </thead>\n",
       "  <tbody>\n",
       "    <tr>\n",
       "      <th>0</th>\n",
       "      <td>29944308</td>\n",
       "      <td>2721</td>\n",
       "      <td>attraction</td>\n",
       "      <td>שער האשפות</td>\n",
       "      <td>POINT (35.23417 31.77483)</td>\n",
       "      <td>gis_osm_pois_free_1.shp</td>\n",
       "    </tr>\n",
       "    <tr>\n",
       "      <th>1</th>\n",
       "      <td>34495605</td>\n",
       "      <td>2701</td>\n",
       "      <td>tourist_info</td>\n",
       "      <td>None</td>\n",
       "      <td>POINT (35.54209 32.78561)</td>\n",
       "      <td>gis_osm_pois_free_1.shp</td>\n",
       "    </tr>\n",
       "    <tr>\n",
       "      <th>2</th>\n",
       "      <td>114162322</td>\n",
       "      <td>2401</td>\n",
       "      <td>hotel</td>\n",
       "      <td>מלון דניאל</td>\n",
       "      <td>POINT (34.80059 32.17195)</td>\n",
       "      <td>gis_osm_pois_free_1.shp</td>\n",
       "    </tr>\n",
       "    <tr>\n",
       "      <th>3</th>\n",
       "      <td>114162327</td>\n",
       "      <td>2401</td>\n",
       "      <td>hotel</td>\n",
       "      <td>מלון השרון</td>\n",
       "      <td>POINT (34.80311 32.17897)</td>\n",
       "      <td>gis_osm_pois_free_1.shp</td>\n",
       "    </tr>\n",
       "    <tr>\n",
       "      <th>4</th>\n",
       "      <td>246270624</td>\n",
       "      <td>2203</td>\n",
       "      <td>cinema</td>\n",
       "      <td>סינמה סיטי גלילות</td>\n",
       "      <td>POINT (34.80471 32.14666)</td>\n",
       "      <td>gis_osm_pois_free_1.shp</td>\n",
       "    </tr>\n",
       "  </tbody>\n",
       "</table>\n",
       "</div>"
      ],
      "text/plain": [
       "      osm_id  code        fclass               name  \\\n",
       "0   29944308  2721    attraction         שער האשפות   \n",
       "1   34495605  2701  tourist_info               None   \n",
       "2  114162322  2401         hotel         מלון דניאל   \n",
       "3  114162327  2401         hotel         מלון השרון   \n",
       "4  246270624  2203        cinema  סינמה סיטי גלילות   \n",
       "\n",
       "                    geometry                     file  \n",
       "0  POINT (35.23417 31.77483)  gis_osm_pois_free_1.shp  \n",
       "1  POINT (35.54209 32.78561)  gis_osm_pois_free_1.shp  \n",
       "2  POINT (34.80059 32.17195)  gis_osm_pois_free_1.shp  \n",
       "3  POINT (34.80311 32.17897)  gis_osm_pois_free_1.shp  \n",
       "4  POINT (34.80471 32.14666)  gis_osm_pois_free_1.shp  "
      ]
     },
     "execution_count": 15,
     "metadata": {},
     "output_type": "execute_result"
    }
   ],
   "source": [
    "df_full.head()"
   ]
  },
  {
   "cell_type": "markdown",
   "metadata": {},
   "source": [
    "# Testing for duplicates"
   ]
  },
  {
   "cell_type": "code",
   "execution_count": 16,
   "metadata": {},
   "outputs": [
    {
     "data": {
      "text/plain": [
       "osm_id\n",
       "604139879     3\n",
       "431624878     3\n",
       "999306431     2\n",
       "4679384289    2\n",
       "498805290     2\n",
       "             ..\n",
       "5679966567    1\n",
       "5679672221    1\n",
       "5679590023    1\n",
       "5678946004    1\n",
       "1341246663    1\n",
       "Name: count, Length: 97487, dtype: int64"
      ]
     },
     "execution_count": 16,
     "metadata": {},
     "output_type": "execute_result"
    }
   ],
   "source": [
    "df_full.osm_id.value_counts()"
   ]
  },
  {
   "cell_type": "code",
   "execution_count": null,
   "metadata": {},
   "outputs": [
    {
     "data": {
      "text/html": [
       "<div>\n",
       "<style scoped>\n",
       "    .dataframe tbody tr th:only-of-type {\n",
       "        vertical-align: middle;\n",
       "    }\n",
       "\n",
       "    .dataframe tbody tr th {\n",
       "        vertical-align: top;\n",
       "    }\n",
       "\n",
       "    .dataframe thead th {\n",
       "        text-align: right;\n",
       "    }\n",
       "</style>\n",
       "<table border=\"1\" class=\"dataframe\">\n",
       "  <thead>\n",
       "    <tr style=\"text-align: right;\">\n",
       "      <th></th>\n",
       "      <th>osm_id</th>\n",
       "      <th>code</th>\n",
       "      <th>fclass</th>\n",
       "      <th>name</th>\n",
       "      <th>geometry</th>\n",
       "      <th>file</th>\n",
       "    </tr>\n",
       "  </thead>\n",
       "  <tbody>\n",
       "    <tr>\n",
       "      <th>20015</th>\n",
       "      <td>604139879</td>\n",
       "      <td>2421</td>\n",
       "      <td>shelter</td>\n",
       "      <td>שומרה</td>\n",
       "      <td>POLYGON ((35.08865 31.81091, 35.08865 31.81091...</td>\n",
       "      <td>gis_osm_pois_a_free_1.shp</td>\n",
       "    </tr>\n",
       "    <tr>\n",
       "      <th>20016</th>\n",
       "      <td>604139879</td>\n",
       "      <td>2953</td>\n",
       "      <td>observation_tower</td>\n",
       "      <td>שומרה</td>\n",
       "      <td>POLYGON ((35.08865 31.81091, 35.08865 31.81091...</td>\n",
       "      <td>gis_osm_pois_a_free_1.shp</td>\n",
       "    </tr>\n",
       "    <tr>\n",
       "      <th>20017</th>\n",
       "      <td>604139879</td>\n",
       "      <td>2742</td>\n",
       "      <td>viewpoint</td>\n",
       "      <td>שומרה</td>\n",
       "      <td>POLYGON ((35.08865 31.81091, 35.08865 31.81091...</td>\n",
       "      <td>gis_osm_pois_a_free_1.shp</td>\n",
       "    </tr>\n",
       "  </tbody>\n",
       "</table>\n",
       "</div>"
      ],
      "text/plain": [
       "          osm_id  code             fclass   name  \\\n",
       "20015  604139879  2421            shelter  שומרה   \n",
       "20016  604139879  2953  observation_tower  שומרה   \n",
       "20017  604139879  2742          viewpoint  שומרה   \n",
       "\n",
       "                                                geometry  \\\n",
       "20015  POLYGON ((35.08865 31.81091, 35.08865 31.81091...   \n",
       "20016  POLYGON ((35.08865 31.81091, 35.08865 31.81091...   \n",
       "20017  POLYGON ((35.08865 31.81091, 35.08865 31.81091...   \n",
       "\n",
       "                            file  \n",
       "20015  gis_osm_pois_a_free_1.shp  \n",
       "20016  gis_osm_pois_a_free_1.shp  \n",
       "20017  gis_osm_pois_a_free_1.shp  "
      ]
     },
     "execution_count": 18,
     "metadata": {},
     "output_type": "execute_result"
    }
   ],
   "source": [
    "df_full[df_full.osm_id == \"604139879\"]"
   ]
  },
  {
   "cell_type": "code",
   "execution_count": null,
   "metadata": {},
   "outputs": [
    {
     "data": {
      "text/plain": [
       "(97728, 6)"
      ]
     },
     "execution_count": 19,
     "metadata": {},
     "output_type": "execute_result"
    }
   ],
   "source": [
    "df_full.drop_duplicates([\"osm_id\", \"fclass\"]).shape"
   ]
  },
  {
   "cell_type": "code",
   "execution_count": 20,
   "metadata": {},
   "outputs": [
    {
     "data": {
      "text/plain": [
       "(97728, 6)"
      ]
     },
     "execution_count": 20,
     "metadata": {},
     "output_type": "execute_result"
    }
   ],
   "source": [
    "df_full.shape"
   ]
  },
  {
   "cell_type": "markdown",
   "metadata": {},
   "source": [
    "# Clip by gushdan boundaries"
   ]
  },
  {
   "cell_type": "code",
   "execution_count": 5,
   "metadata": {},
   "outputs": [
    {
     "name": "stdout",
     "output_type": "stream",
     "text": [
      "joined\n",
      "Original shape: 97728, new shape: 30043\n"
     ]
    }
   ],
   "source": [
    "gdf_pois_gushdan = utils.clip_gdf_gushdan_boundaries(df_full, \"geometry\")"
   ]
  },
  {
   "cell_type": "markdown",
   "metadata": {},
   "source": [
    "# Analyse"
   ]
  },
  {
   "cell_type": "code",
   "execution_count": 6,
   "metadata": {},
   "outputs": [
    {
     "data": {
      "text/plain": [
       "fclass\n",
       "park                 5575\n",
       "pitch                2609\n",
       "playground           2164\n",
       "bench                1419\n",
       "school               1336\n",
       "                     ... \n",
       "newsagent               1\n",
       "vending_cigarette       1\n",
       "water_mill              1\n",
       "battlefield             1\n",
       "fort                    1\n",
       "Name: count, Length: 131, dtype: int64"
      ]
     },
     "execution_count": 6,
     "metadata": {},
     "output_type": "execute_result"
    }
   ],
   "source": [
    "gdf_pois_gushdan.fclass.value_counts()"
   ]
  },
  {
   "cell_type": "code",
   "execution_count": 7,
   "metadata": {},
   "outputs": [
    {
     "data": {
      "text/plain": [
       "fclass\n",
       "park                5575\n",
       "pitch               2609\n",
       "playground          2164\n",
       "bench               1419\n",
       "school              1336\n",
       "drinking_water      1153\n",
       "restaurant           929\n",
       "waste_basket         812\n",
       "kindergarten         784\n",
       "fast_food            727\n",
       "supermarket          667\n",
       "cafe                 650\n",
       "swimming_pool        584\n",
       "recycling            455\n",
       "clothes              452\n",
       "convenience          438\n",
       "sports_centre        326\n",
       "toilet               309\n",
       "artwork              304\n",
       "bank                 282\n",
       "telephone            251\n",
       "clinic               247\n",
       "pharmacy             228\n",
       "bakery               227\n",
       "atm                  218\n",
       "hairdresser          216\n",
       "memorial             215\n",
       "fountain             204\n",
       "shelter              198\n",
       "mall                 197\n",
       "bicycle_rental       196\n",
       "graveyard            196\n",
       "viewpoint            185\n",
       "community_centre     181\n",
       "bar                  179\n",
       "dog_park             177\n",
       "recycling_paper      171\n",
       "attraction           165\n",
       "picnic_site          164\n",
       "post_office          144\n",
       "ruins                143\n",
       "post_box             139\n",
       "hotel                136\n",
       "greengrocer          131\n",
       "kiosk                109\n",
       "car_wash             102\n",
       "Name: count, dtype: int64"
      ]
     },
     "execution_count": 7,
     "metadata": {},
     "output_type": "execute_result"
    }
   ],
   "source": [
    "gdf_pois_gushdan.fclass.value_counts()[gdf_pois_gushdan.fclass.value_counts() > 100]"
   ]
  },
  {
   "cell_type": "markdown",
   "metadata": {},
   "source": [
    "### Filtering out categories that are not urban amenities"
   ]
  },
  {
   "cell_type": "code",
   "execution_count": 8,
   "metadata": {},
   "outputs": [],
   "source": [
    "urban_amenities = {\n",
    "    \"food\": [\"bar\", \"cafe\", \"restaurant\", \"fast_food\", \"pub\", \"food_court\"],\n",
    "    \"education\": [\"school\", \"university\", \"college\", \"kindergarten\"],\n",
    "    \"Health\": [\"hospital\", \"clinic\", \"pharmacy\", \"dentist\", \"doctors\"],\n",
    "    \"entertainment\": [\n",
    "        \"cinema\",\n",
    "        \"theatre\",\n",
    "        \"nightclub\",\n",
    "        \"arts_centre\",\n",
    "        \"community_centre\",\n",
    "        \"library\",\n",
    "        \"museum\"\n",
    "    ],\n",
    "    \"outdoor_attractions\": [\"attraction\", \"memorial\", \"ruins\", \"artwork\", \"fountain\",\"archaeological\"],\n",
    "    \"parks_sport\": [\n",
    "        \"park\",  # Parks\n",
    "        \"pitch\",  # Sports pitches\n",
    "        \"sports_centre\",  # Sports centers\n",
    "        \"stadium\",  # Stadiums\n",
    "        \"playground\",  # Playgrounds\n",
    "        \"swimming_pool\",\n",
    "        \"dog_park\",\n",
    "        \"viewpoint\"\n",
    "    ],\n",
    "    \"retail\": [\n",
    "        \"supermarket\",\n",
    "        \"mall\",\n",
    "        \"convenience\",\n",
    "        \"clothes\",\n",
    "        \"pharmacy\",\n",
    "        \"bakery\",\n",
    "        \"electronics\",\n",
    "        \"furniture\",\n",
    "        \"books\",\n",
    "        \"shoes\",\n",
    "        \"jewelry\",\n",
    "        \"sports\",\n",
    "        \"toys\",\n",
    "        \"optician\",\n",
    "        \"stationery\",\n",
    "        \"department_store\",\n",
    "        \"florist\",\n",
    "        \"kiosk\",\n",
    "        \"car_dealership\"\n",
    "    ],\n",
    "    \"services\": [\n",
    "        \"bank\",\n",
    "        \"hairdresser\",\n",
    "        \"nails\",  # Nail salons\n",
    "        \"spa\",  # Spas and wellness centers\n",
    "        \"massage\",  # Massage therapy centers\n",
    "        \"tattoo\",  # Tattoo parlors\n",
    "        \"photography\",  # Photography studios\n",
    "        \"travel_agency\",  # Travel agencies\n",
    "        \"bicycle_repair\",\n",
    "        \"car_repair\",\n",
    "        \"car_wash\",\n",
    "        \"post_office\",\n",
    "        \"bicycle_rental\"\n",
    "    ],\n",
    "}"
   ]
  },
  {
   "cell_type": "code",
   "execution_count": 96,
   "metadata": {},
   "outputs": [],
   "source": [
    "urban_amenities['retail'].extend([ i for i  in gdf_pois_gushdan.fclass if 'shop' in i])"
   ]
  },
  {
   "cell_type": "code",
   "execution_count": 9,
   "metadata": {},
   "outputs": [],
   "source": [
    "pois_list = [amenity for category in urban_amenities.values() for amenity in category]"
   ]
  },
  {
   "cell_type": "code",
   "execution_count": 98,
   "metadata": {},
   "outputs": [
    {
     "data": {
      "text/plain": [
       "fclass\n",
       "bench              1419\n",
       "drinking_water     1153\n",
       "waste_basket        812\n",
       "recycling           455\n",
       "toilet              309\n",
       "telephone           251\n",
       "atm                 218\n",
       "shelter             198\n",
       "graveyard           196\n",
       "recycling_paper     171\n",
       "picnic_site         164\n",
       "post_box            139\n",
       "hotel               136\n",
       "greengrocer         131\n",
       "recycling_glass      97\n",
       "tourist_info         95\n",
       "doityourself         94\n",
       "embassy              85\n",
       "track                74\n",
       "town_hall            71\n",
       "Name: count, dtype: int64"
      ]
     },
     "execution_count": 98,
     "metadata": {},
     "output_type": "execute_result"
    }
   ],
   "source": [
    "gdf_pois_gushdan[\n",
    "    ~gdf_pois_gushdan.fclass.isin(pois_list)\n",
    "].fclass.value_counts().head(20)"
   ]
  },
  {
   "cell_type": "code",
   "execution_count": null,
   "metadata": {},
   "outputs": [],
   "source": [
    "gdf_pois_gushdan_filtered = gdf_pois_gushdan[\n",
    "    gdf_pois_gushdan.fclass.isin(pois_list)\n",
    "]\n",
    "# just in case we process full dataset as well\n",
    "gdf_pois_filtered = df_full[\n",
    "    df_full.fclass.isin(pois_list)\n",
    "]"
   ]
  },
  {
   "cell_type": "code",
   "execution_count": 20,
   "metadata": {},
   "outputs": [
    {
     "data": {
      "text/plain": [
       "fclass\n",
       "park                18277\n",
       "pitch                7771\n",
       "playground           5717\n",
       "school               5370\n",
       "supermarket          4952\n",
       "restaurant           2948\n",
       "swimming_pool        2497\n",
       "kindergarten         1947\n",
       "cafe                 1544\n",
       "viewpoint            1527\n",
       "fast_food            1497\n",
       "pharmacy             1490\n",
       "convenience          1289\n",
       "clothes              1220\n",
       "ruins                1122\n",
       "attraction           1053\n",
       "archaeological       1035\n",
       "sports_centre         828\n",
       "clinic                793\n",
       "bank                  766\n",
       "community_centre      738\n",
       "bakery                738\n",
       "memorial              693\n",
       "artwork               639\n",
       "hairdresser           504\n",
       "mall                  430\n",
       "hospital              423\n",
       "post_office           376\n",
       "doctors               367\n",
       "bar                   337\n",
       "fountain              332\n",
       "library               304\n",
       "car_dealership        285\n",
       "museum                259\n",
       "car_wash              253\n",
       "college               248\n",
       "dog_park              227\n",
       "dentist               218\n",
       "bicycle_rental        213\n",
       "theatre               202\n",
       "kiosk                 194\n",
       "pub                   180\n",
       "florist               159\n",
       "optician              138\n",
       "department_store      125\n",
       "stadium               111\n",
       "stationery            106\n",
       "university            104\n",
       "arts_centre            88\n",
       "cinema                 78\n",
       "nightclub              55\n",
       "food_court              9\n",
       "Name: count, dtype: int64"
      ]
     },
     "execution_count": 20,
     "metadata": {},
     "output_type": "execute_result"
    }
   ],
   "source": [
    "gdf_pois_filtered.fclass.value_counts()"
   ]
  },
  {
   "cell_type": "markdown",
   "metadata": {},
   "source": [
    "### Creating column with POIS category "
   ]
  },
  {
   "cell_type": "code",
   "execution_count": 12,
   "metadata": {},
   "outputs": [],
   "source": [
    "# Create a mapping of amenities to categories\n",
    "category_mapping = {item: category for category, items in urban_amenities.items() for item in items}"
   ]
  },
  {
   "cell_type": "code",
   "execution_count": 22,
   "metadata": {},
   "outputs": [
    {
     "data": {
      "text/plain": [
       "'retail'"
      ]
     },
     "execution_count": 22,
     "metadata": {},
     "output_type": "execute_result"
    }
   ],
   "source": [
    "category_mapping['supermarket']"
   ]
  },
  {
   "cell_type": "code",
   "execution_count": 15,
   "metadata": {},
   "outputs": [],
   "source": [
    "\n",
    "gdf_pois_gushdan_filtered[\"pois_category\"] = gdf_pois_gushdan_filtered.fclass.map(category_mapping)\n",
    "gdf_pois_filtered[\"pois_category\"] = gdf_pois_filtered.fclass.map(category_mapping)"
   ]
  },
  {
   "cell_type": "code",
   "execution_count": 27,
   "metadata": {},
   "outputs": [
    {
     "data": {
      "text/plain": [
       "pois_category\n",
       "parks_sport            36955\n",
       "retail                 11126\n",
       "education               7669\n",
       "food                    6515\n",
       "outdoor_attractions     4874\n",
       "services                2112\n",
       "Health                  1801\n",
       "entertainment           1724\n",
       "Name: count, dtype: int64"
      ]
     },
     "execution_count": 27,
     "metadata": {},
     "output_type": "execute_result"
    }
   ],
   "source": [
    "gdf_pois_filtered[\"pois_category\"].value_counts()"
   ]
  },
  {
   "cell_type": "code",
   "execution_count": 19,
   "metadata": {},
   "outputs": [
    {
     "data": {
      "text/plain": [
       "pois_category\n",
       "parks_sport            11650\n",
       "retail                  2605\n",
       "food                    2585\n",
       "education               2179\n",
       "outdoor_attractions     1129\n",
       "services                 940\n",
       "entertainment            519\n",
       "Health                   358\n",
       "Name: count, dtype: int64"
      ]
     },
     "execution_count": 19,
     "metadata": {},
     "output_type": "execute_result"
    }
   ],
   "source": [
    "gdf_pois_gushdan_filtered[\"pois_category\"].value_counts()"
   ]
  },
  {
   "cell_type": "code",
   "execution_count": 107,
   "metadata": {},
   "outputs": [
    {
     "data": {
      "text/html": [
       "<div>\n",
       "<style scoped>\n",
       "    .dataframe tbody tr th:only-of-type {\n",
       "        vertical-align: middle;\n",
       "    }\n",
       "\n",
       "    .dataframe tbody tr th {\n",
       "        vertical-align: top;\n",
       "    }\n",
       "\n",
       "    .dataframe thead th {\n",
       "        text-align: right;\n",
       "    }\n",
       "</style>\n",
       "<table border=\"1\" class=\"dataframe\">\n",
       "  <thead>\n",
       "    <tr style=\"text-align: right;\">\n",
       "      <th></th>\n",
       "      <th>osm_id</th>\n",
       "      <th>code</th>\n",
       "      <th>fclass</th>\n",
       "      <th>name</th>\n",
       "      <th>geometry</th>\n",
       "      <th>file</th>\n",
       "      <th>index_right</th>\n",
       "      <th>pois_category</th>\n",
       "    </tr>\n",
       "  </thead>\n",
       "  <tbody>\n",
       "    <tr>\n",
       "      <th>4</th>\n",
       "      <td>246270624</td>\n",
       "      <td>2203</td>\n",
       "      <td>cinema</td>\n",
       "      <td>סינמה סיטי גלילות</td>\n",
       "      <td>POINT (34.80471 32.14666)</td>\n",
       "      <td>gis_osm_pois_free_1.shp</td>\n",
       "      <td>0</td>\n",
       "      <td>entertainment</td>\n",
       "    </tr>\n",
       "    <tr>\n",
       "      <th>17</th>\n",
       "      <td>268157256</td>\n",
       "      <td>2101</td>\n",
       "      <td>pharmacy</td>\n",
       "      <td>Super-Pharm</td>\n",
       "      <td>POINT (34.85329 32.18437)</td>\n",
       "      <td>gis_osm_pois_free_1.shp</td>\n",
       "      <td>0</td>\n",
       "      <td>retail</td>\n",
       "    </tr>\n",
       "    <tr>\n",
       "      <th>19</th>\n",
       "      <td>268162810</td>\n",
       "      <td>2084</td>\n",
       "      <td>college</td>\n",
       "      <td>מכללת נתניה</td>\n",
       "      <td>POINT (34.87984 32.30745)</td>\n",
       "      <td>gis_osm_pois_free_1.shp</td>\n",
       "      <td>0</td>\n",
       "      <td>education</td>\n",
       "    </tr>\n",
       "    <tr>\n",
       "      <th>20</th>\n",
       "      <td>268162811</td>\n",
       "      <td>2601</td>\n",
       "      <td>bank</td>\n",
       "      <td>בנק הפועלים</td>\n",
       "      <td>POINT (34.87502 32.30774)</td>\n",
       "      <td>gis_osm_pois_free_1.shp</td>\n",
       "      <td>0</td>\n",
       "      <td>services</td>\n",
       "    </tr>\n",
       "    <tr>\n",
       "      <th>21</th>\n",
       "      <td>268162812</td>\n",
       "      <td>2101</td>\n",
       "      <td>pharmacy</td>\n",
       "      <td>None</td>\n",
       "      <td>POINT (34.87054 32.31196)</td>\n",
       "      <td>gis_osm_pois_free_1.shp</td>\n",
       "      <td>0</td>\n",
       "      <td>retail</td>\n",
       "    </tr>\n",
       "  </tbody>\n",
       "</table>\n",
       "</div>"
      ],
      "text/plain": [
       "       osm_id  code    fclass               name                   geometry  \\\n",
       "4   246270624  2203    cinema  סינמה סיטי גלילות  POINT (34.80471 32.14666)   \n",
       "17  268157256  2101  pharmacy        Super-Pharm  POINT (34.85329 32.18437)   \n",
       "19  268162810  2084   college        מכללת נתניה  POINT (34.87984 32.30745)   \n",
       "20  268162811  2601      bank        בנק הפועלים  POINT (34.87502 32.30774)   \n",
       "21  268162812  2101  pharmacy               None  POINT (34.87054 32.31196)   \n",
       "\n",
       "                       file  index_right  pois_category  \n",
       "4   gis_osm_pois_free_1.shp            0  entertainment  \n",
       "17  gis_osm_pois_free_1.shp            0         retail  \n",
       "19  gis_osm_pois_free_1.shp            0      education  \n",
       "20  gis_osm_pois_free_1.shp            0       services  \n",
       "21  gis_osm_pois_free_1.shp            0         retail  "
      ]
     },
     "execution_count": 107,
     "metadata": {},
     "output_type": "execute_result"
    }
   ],
   "source": [
    "gdf_pois_gushdan_filtered.head()"
   ]
  },
  {
   "cell_type": "code",
   "execution_count": 112,
   "metadata": {},
   "outputs": [],
   "source": [
    "gdf_pois_gushdan_filtered=gdf_pois_gushdan_filtered.drop(\"index_right\", axis=1)"
   ]
  },
  {
   "cell_type": "code",
   "execution_count": 109,
   "metadata": {},
   "outputs": [
    {
     "data": {
      "text/plain": [
       "Polygon         13519\n",
       "MultiPolygon       14\n",
       "Name: count, dtype: int64"
      ]
     },
     "execution_count": 109,
     "metadata": {},
     "output_type": "execute_result"
    }
   ],
   "source": [
    "gdf_pois_gushdan_filtered[gdf_pois_gushdan_filtered.file=='gis_osm_pois_a_free_1.shp'].geometry.geom_type.value_counts()"
   ]
  },
  {
   "cell_type": "code",
   "execution_count": 110,
   "metadata": {},
   "outputs": [
    {
     "data": {
      "text/plain": [
       "Point    9135\n",
       "Name: count, dtype: int64"
      ]
     },
     "execution_count": 110,
     "metadata": {},
     "output_type": "execute_result"
    }
   ],
   "source": [
    "gdf_pois_gushdan_filtered[gdf_pois_gushdan_filtered.file=='gis_osm_pois_free_1.shp'].geometry.geom_type.value_counts()"
   ]
  },
  {
   "cell_type": "markdown",
   "metadata": {},
   "source": [
    "POIS are interesected but it makes sense"
   ]
  },
  {
   "cell_type": "code",
   "execution_count": 113,
   "metadata": {},
   "outputs": [
    {
     "data": {
      "text/html": [
       "<div>\n",
       "<style scoped>\n",
       "    .dataframe tbody tr th:only-of-type {\n",
       "        vertical-align: middle;\n",
       "    }\n",
       "\n",
       "    .dataframe tbody tr th {\n",
       "        vertical-align: top;\n",
       "    }\n",
       "\n",
       "    .dataframe thead th {\n",
       "        text-align: right;\n",
       "    }\n",
       "</style>\n",
       "<table border=\"1\" class=\"dataframe\">\n",
       "  <thead>\n",
       "    <tr style=\"text-align: right;\">\n",
       "      <th></th>\n",
       "      <th>osm_id_left</th>\n",
       "      <th>code_left</th>\n",
       "      <th>fclass_left</th>\n",
       "      <th>name_left</th>\n",
       "      <th>geometry</th>\n",
       "      <th>file_left</th>\n",
       "      <th>pois_category_left</th>\n",
       "      <th>index_right</th>\n",
       "      <th>osm_id_right</th>\n",
       "      <th>code_right</th>\n",
       "      <th>fclass_right</th>\n",
       "      <th>name_right</th>\n",
       "      <th>file_right</th>\n",
       "      <th>pois_category_right</th>\n",
       "    </tr>\n",
       "  </thead>\n",
       "  <tbody>\n",
       "    <tr>\n",
       "      <th>4</th>\n",
       "      <td>246270624</td>\n",
       "      <td>2203</td>\n",
       "      <td>cinema</td>\n",
       "      <td>סינמה סיטי גלילות</td>\n",
       "      <td>POINT (34.80471 32.14666)</td>\n",
       "      <td>gis_osm_pois_free_1.shp</td>\n",
       "      <td>entertainment</td>\n",
       "      <td>213</td>\n",
       "      <td>37986452</td>\n",
       "      <td>2504</td>\n",
       "      <td>mall</td>\n",
       "      <td>רב מכר גלילות</td>\n",
       "      <td>gis_osm_pois_a_free_1.shp</td>\n",
       "      <td>retail</td>\n",
       "    </tr>\n",
       "    <tr>\n",
       "      <th>17</th>\n",
       "      <td>268157256</td>\n",
       "      <td>2101</td>\n",
       "      <td>pharmacy</td>\n",
       "      <td>Super-Pharm</td>\n",
       "      <td>POINT (34.85329 32.18437)</td>\n",
       "      <td>gis_osm_pois_free_1.shp</td>\n",
       "      <td>retail</td>\n",
       "      <td>2304</td>\n",
       "      <td>102716891</td>\n",
       "      <td>2504</td>\n",
       "      <td>mall</td>\n",
       "      <td>קניון פארק</td>\n",
       "      <td>gis_osm_pois_a_free_1.shp</td>\n",
       "      <td>retail</td>\n",
       "    </tr>\n",
       "    <tr>\n",
       "      <th>25</th>\n",
       "      <td>270161934</td>\n",
       "      <td>2203</td>\n",
       "      <td>cinema</td>\n",
       "      <td>סינמה פארק רעננה</td>\n",
       "      <td>POINT (34.85312 32.18403)</td>\n",
       "      <td>gis_osm_pois_free_1.shp</td>\n",
       "      <td>entertainment</td>\n",
       "      <td>2304</td>\n",
       "      <td>102716891</td>\n",
       "      <td>2504</td>\n",
       "      <td>mall</td>\n",
       "      <td>קניון פארק</td>\n",
       "      <td>gis_osm_pois_a_free_1.shp</td>\n",
       "      <td>retail</td>\n",
       "    </tr>\n",
       "    <tr>\n",
       "      <th>43</th>\n",
       "      <td>275589899</td>\n",
       "      <td>2082</td>\n",
       "      <td>school</td>\n",
       "      <td>בית הספר החקלאי מקווה ישראל</td>\n",
       "      <td>POINT (34.7811 32.02926)</td>\n",
       "      <td>gis_osm_pois_free_1.shp</td>\n",
       "      <td>education</td>\n",
       "      <td>32430</td>\n",
       "      <td>1004703155</td>\n",
       "      <td>2082</td>\n",
       "      <td>school</td>\n",
       "      <td>בית הספר החקלאי מקווה ישראל</td>\n",
       "      <td>gis_osm_pois_a_free_1.shp</td>\n",
       "      <td>education</td>\n",
       "    </tr>\n",
       "    <tr>\n",
       "      <th>172</th>\n",
       "      <td>278473935</td>\n",
       "      <td>2724</td>\n",
       "      <td>memorial</td>\n",
       "      <td>קבר וייצמן</td>\n",
       "      <td>POINT (34.81915 31.9064)</td>\n",
       "      <td>gis_osm_pois_free_1.shp</td>\n",
       "      <td>outdoor_attractions</td>\n",
       "      <td>18806</td>\n",
       "      <td>555836234</td>\n",
       "      <td>2081</td>\n",
       "      <td>university</td>\n",
       "      <td>מכון ויצמן למדע</td>\n",
       "      <td>gis_osm_pois_a_free_1.shp</td>\n",
       "      <td>education</td>\n",
       "    </tr>\n",
       "    <tr>\n",
       "      <th>...</th>\n",
       "      <td>...</td>\n",
       "      <td>...</td>\n",
       "      <td>...</td>\n",
       "      <td>...</td>\n",
       "      <td>...</td>\n",
       "      <td>...</td>\n",
       "      <td>...</td>\n",
       "      <td>...</td>\n",
       "      <td>...</td>\n",
       "      <td>...</td>\n",
       "      <td>...</td>\n",
       "      <td>...</td>\n",
       "      <td>...</td>\n",
       "      <td>...</td>\n",
       "    </tr>\n",
       "    <tr>\n",
       "      <th>52017</th>\n",
       "      <td>12290189857</td>\n",
       "      <td>2904</td>\n",
       "      <td>fountain</td>\n",
       "      <td>None</td>\n",
       "      <td>POINT (34.81185 32.10136)</td>\n",
       "      <td>gis_osm_pois_free_1.shp</td>\n",
       "      <td>outdoor_attractions</td>\n",
       "      <td>41399</td>\n",
       "      <td>16022802</td>\n",
       "      <td>2204</td>\n",
       "      <td>park</td>\n",
       "      <td>גני יהושע</td>\n",
       "      <td>gis_osm_pois_a_free_1.shp</td>\n",
       "      <td>parks_sport</td>\n",
       "    </tr>\n",
       "    <tr>\n",
       "      <th>52074</th>\n",
       "      <td>12325527901</td>\n",
       "      <td>2721</td>\n",
       "      <td>attraction</td>\n",
       "      <td>עגלת קפה - בוטקה</td>\n",
       "      <td>POINT (34.96855 31.88879)</td>\n",
       "      <td>gis_osm_pois_free_1.shp</td>\n",
       "      <td>outdoor_attractions</td>\n",
       "      <td>18628</td>\n",
       "      <td>553272319</td>\n",
       "      <td>2204</td>\n",
       "      <td>park</td>\n",
       "      <td>None</td>\n",
       "      <td>gis_osm_pois_a_free_1.shp</td>\n",
       "      <td>parks_sport</td>\n",
       "    </tr>\n",
       "    <tr>\n",
       "      <th>52075</th>\n",
       "      <td>12325527902</td>\n",
       "      <td>2303</td>\n",
       "      <td>cafe</td>\n",
       "      <td>עגלת קפה השניים</td>\n",
       "      <td>POINT (34.94503 32.00516)</td>\n",
       "      <td>gis_osm_pois_free_1.shp</td>\n",
       "      <td>food</td>\n",
       "      <td>4476</td>\n",
       "      <td>181032395</td>\n",
       "      <td>2204</td>\n",
       "      <td>park</td>\n",
       "      <td>גן החבל</td>\n",
       "      <td>gis_osm_pois_a_free_1.shp</td>\n",
       "      <td>parks_sport</td>\n",
       "    </tr>\n",
       "    <tr>\n",
       "      <th>52330</th>\n",
       "      <td>12393444326</td>\n",
       "      <td>2111</td>\n",
       "      <td>clinic</td>\n",
       "      <td>מכבי</td>\n",
       "      <td>POINT (34.70463 31.79535)</td>\n",
       "      <td>gis_osm_pois_free_1.shp</td>\n",
       "      <td>Health</td>\n",
       "      <td>11891</td>\n",
       "      <td>368780364</td>\n",
       "      <td>2504</td>\n",
       "      <td>mall</td>\n",
       "      <td>פרנדלי גן יבנה</td>\n",
       "      <td>gis_osm_pois_a_free_1.shp</td>\n",
       "      <td>retail</td>\n",
       "    </tr>\n",
       "    <tr>\n",
       "      <th>52331</th>\n",
       "      <td>12393444327</td>\n",
       "      <td>2111</td>\n",
       "      <td>clinic</td>\n",
       "      <td>כללית</td>\n",
       "      <td>POINT (34.70438 31.79554)</td>\n",
       "      <td>gis_osm_pois_free_1.shp</td>\n",
       "      <td>Health</td>\n",
       "      <td>11891</td>\n",
       "      <td>368780364</td>\n",
       "      <td>2504</td>\n",
       "      <td>mall</td>\n",
       "      <td>פרנדלי גן יבנה</td>\n",
       "      <td>gis_osm_pois_a_free_1.shp</td>\n",
       "      <td>retail</td>\n",
       "    </tr>\n",
       "  </tbody>\n",
       "</table>\n",
       "<p>2224 rows × 14 columns</p>\n",
       "</div>"
      ],
      "text/plain": [
       "       osm_id_left  code_left fclass_left                    name_left  \\\n",
       "4        246270624       2203      cinema            סינמה סיטי גלילות   \n",
       "17       268157256       2101    pharmacy                  Super-Pharm   \n",
       "25       270161934       2203      cinema             סינמה פארק רעננה   \n",
       "43       275589899       2082      school  בית הספר החקלאי מקווה ישראל   \n",
       "172      278473935       2724    memorial                   קבר וייצמן   \n",
       "...            ...        ...         ...                          ...   \n",
       "52017  12290189857       2904    fountain                         None   \n",
       "52074  12325527901       2721  attraction             עגלת קפה - בוטקה   \n",
       "52075  12325527902       2303        cafe              עגלת קפה השניים   \n",
       "52330  12393444326       2111      clinic                         מכבי   \n",
       "52331  12393444327       2111      clinic                        כללית   \n",
       "\n",
       "                        geometry                file_left  \\\n",
       "4      POINT (34.80471 32.14666)  gis_osm_pois_free_1.shp   \n",
       "17     POINT (34.85329 32.18437)  gis_osm_pois_free_1.shp   \n",
       "25     POINT (34.85312 32.18403)  gis_osm_pois_free_1.shp   \n",
       "43      POINT (34.7811 32.02926)  gis_osm_pois_free_1.shp   \n",
       "172     POINT (34.81915 31.9064)  gis_osm_pois_free_1.shp   \n",
       "...                          ...                      ...   \n",
       "52017  POINT (34.81185 32.10136)  gis_osm_pois_free_1.shp   \n",
       "52074  POINT (34.96855 31.88879)  gis_osm_pois_free_1.shp   \n",
       "52075  POINT (34.94503 32.00516)  gis_osm_pois_free_1.shp   \n",
       "52330  POINT (34.70463 31.79535)  gis_osm_pois_free_1.shp   \n",
       "52331  POINT (34.70438 31.79554)  gis_osm_pois_free_1.shp   \n",
       "\n",
       "        pois_category_left  index_right osm_id_right  code_right fclass_right  \\\n",
       "4            entertainment          213     37986452        2504         mall   \n",
       "17                  retail         2304    102716891        2504         mall   \n",
       "25           entertainment         2304    102716891        2504         mall   \n",
       "43               education        32430   1004703155        2082       school   \n",
       "172    outdoor_attractions        18806    555836234        2081   university   \n",
       "...                    ...          ...          ...         ...          ...   \n",
       "52017  outdoor_attractions        41399     16022802        2204         park   \n",
       "52074  outdoor_attractions        18628    553272319        2204         park   \n",
       "52075                 food         4476    181032395        2204         park   \n",
       "52330               Health        11891    368780364        2504         mall   \n",
       "52331               Health        11891    368780364        2504         mall   \n",
       "\n",
       "                        name_right                 file_right  \\\n",
       "4                    רב מכר גלילות  gis_osm_pois_a_free_1.shp   \n",
       "17                      קניון פארק  gis_osm_pois_a_free_1.shp   \n",
       "25                      קניון פארק  gis_osm_pois_a_free_1.shp   \n",
       "43     בית הספר החקלאי מקווה ישראל  gis_osm_pois_a_free_1.shp   \n",
       "172                מכון ויצמן למדע  gis_osm_pois_a_free_1.shp   \n",
       "...                            ...                        ...   \n",
       "52017                    גני יהושע  gis_osm_pois_a_free_1.shp   \n",
       "52074                         None  gis_osm_pois_a_free_1.shp   \n",
       "52075                      גן החבל  gis_osm_pois_a_free_1.shp   \n",
       "52330               פרנדלי גן יבנה  gis_osm_pois_a_free_1.shp   \n",
       "52331               פרנדלי גן יבנה  gis_osm_pois_a_free_1.shp   \n",
       "\n",
       "      pois_category_right  \n",
       "4                  retail  \n",
       "17                 retail  \n",
       "25                 retail  \n",
       "43              education  \n",
       "172             education  \n",
       "...                   ...  \n",
       "52017         parks_sport  \n",
       "52074         parks_sport  \n",
       "52075         parks_sport  \n",
       "52330              retail  \n",
       "52331              retail  \n",
       "\n",
       "[2224 rows x 14 columns]"
      ]
     },
     "execution_count": 113,
     "metadata": {},
     "output_type": "execute_result"
    }
   ],
   "source": [
    "gdf_pois_gushdan_filtered[gdf_pois_gushdan_filtered.file=='gis_osm_pois_free_1.shp'].sjoin(gdf_pois_gushdan_filtered[gdf_pois_gushdan_filtered.file=='gis_osm_pois_a_free_1.shp']\n",
    "                                                                                           ,how='inner' )"
   ]
  },
  {
   "cell_type": "code",
   "execution_count": 115,
   "metadata": {},
   "outputs": [],
   "source": [
    "gdf_pois_gushdan_filtered = gdf_pois_gushdan_filtered.drop([\"file\"],axis=1)"
   ]
  },
  {
   "cell_type": "code",
   "execution_count": 116,
   "metadata": {},
   "outputs": [],
   "source": [
    "gdf_pois_gushdan_filtered.to_file(utils.get_path(\"processed\",\"osm\",\"osm_pois.geojson\"))"
   ]
  },
  {
   "cell_type": "code",
   "execution_count": 31,
   "metadata": {},
   "outputs": [],
   "source": [
    "gdf_pois_filtered.drop(\"geometry\",axis=1).to_file(utils.get_path(\"processed\",\"osm\",\"osm_pois_israell.geojson\"))"
   ]
  },
  {
   "cell_type": "code",
   "execution_count": null,
   "metadata": {},
   "outputs": [],
   "source": []
  }
 ],
 "metadata": {
  "kernelspec": {
   "display_name": "spatial_analytics_course",
   "language": "python",
   "name": "python3"
  },
  "language_info": {
   "codemirror_mode": {
    "name": "ipython",
    "version": 3
   },
   "file_extension": ".py",
   "mimetype": "text/x-python",
   "name": "python",
   "nbconvert_exporter": "python",
   "pygments_lexer": "ipython3",
   "version": "3.12.7"
  }
 },
 "nbformat": 4,
 "nbformat_minor": 2
}
