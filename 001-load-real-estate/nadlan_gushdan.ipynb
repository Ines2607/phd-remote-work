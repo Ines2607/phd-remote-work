{
 "cells": [
  {
   "cell_type": "code",
   "execution_count": 1,
   "id": "4727f241-9972-478d-9334-a93857918847",
   "metadata": {},
   "outputs": [],
   "source": [
    "import geopandas as gpd\n",
    "import pandas as pd\n",
    "from tqdm import tqdm\n",
    "import requests\n",
    "import numpy as np"
   ]
  },
  {
   "cell_type": "code",
   "execution_count": 2,
   "id": "8734a134-3475-4a7d-ab9e-95f58305331d",
   "metadata": {},
   "outputs": [],
   "source": [
    "url = 'https://www.nadlan.gov.il/Nadlan.REST/Main/GetAssestAndDeals'\n",
    "\n",
    "list_res=[]"
   ]
  },
  {
   "cell_type": "code",
   "execution_count": 13,
   "id": "2be7cb12-dd08-4b5f-8802-156a41c8f93b",
   "metadata": {},
   "outputs": [],
   "source": [
    "dict_data = [{\"city_name\":  \"רעננה\",\"obj_id\": \"8700\",\"city_name_eng\":\"raanana\",\"x\":196060.80932654, \"y\":661996.4329939},\n",
    " {\"city_name\":  \"הוד השרון\",\"obj_id\": \"9700\",\"city_name_eng\":\"hodhasharon\",\"x\":196060.80932654, \"y\":661996.4329939},\n",
    " {\"city_name\":  \"רמלה\",\"obj_id\": \"8500\",\"city_name_eng\":\"ramla\",\"x\":196060.80932654, \"y\":661996.4329939},\n",
    " # {\"city_name\":  \"לוד\",\"obj_id\": \"8700\",\"city_name_eng\":\"lod\",\"x\":196060.80932654, \"y\":661996.4329939}, # couldnt find code in nadlan\n",
    " {\"city_name\":  \"רחובות\",\"obj_id\": \"8400\",\"city_name_eng\":\"rehovot\",\"x\":196060.80932654, \"y\":661996.4329939},\n",
    "  {\"city_name\":  \"ראשון לציון\",\"obj_id\": \"8300\",\"city_name_eng\":\"rishon lezion\",\"x\":196060.80932654, \"y\":661996.4329939},\n",
    "  {\"city_name\":   \"אלעד\",\"obj_id\": \"1309\",\"city_name_eng\":\"elad\",\"x\":196060.80932654, \"y\":661996.4329939},\n",
    "  {\"city_name\":  \"באר יעקב\",\"obj_id\": \"2530\",\"city_name_eng\":\"ber yakov\",\"x\":184707.28092654, \"y\":649639.3578939},\n",
    "  {\"city_name\":  \"גבעת שמואל\",\"obj_id\": \"681\",\"city_name_eng\":\"givat shmuel\",\"x\":186077.10822654, \"y\":664944.1708939},\n",
    "  {\"city_name\":  \"גני תקווה\",\"obj_id\": \"229\",\"city_name_eng\":\"ganei tikva\",\"x\":188245.71802654, \"y\":663207.2540939},\n",
    "  # {\"city_name\":  \"יבנה\",\"obj_id\": \"8700\",\"city_name_eng\":\"yavne\"}, # couldnt find code in nadlan\n",
    "  {\"city_name\":  \"כפר סבא\",\"obj_id\": \"6900\",\"city_name_eng\":\"kfar saba\",\"x\":196060.80932654, \"y\":661996.4329939},\n",
    "  {\"city_name\":  \"כפר קאסם\",\"obj_id\": \"634\",\"city_name_eng\":\"kfar qasim\",\"x\":196060.80932654, \"y\":661996.4329939},\n",
    "# {\"city_name\":  \"טייבה\",\"obj_id\": \"8700\",\"city_name_eng\":\"taybe\"}, # couldnt find code in nadlan\n",
    "  {\"city_name\":  \"ראש העין\",\"obj_id\": \"2640\",\"city_name_eng\":\"rosh ain\",\"x\":196060.80932654, \"y\":661996.4329939},\n",
    "  {\"city_name\":  \"קלנסוה\",\"obj_id\": \"638\",\"city_name_eng\":\"qalansawe\",\"x\":196060.80932654, \"y\":661996.4329939},\n",
    "  {\"city_name\":  \"א-טירה\",\"obj_id\": \"2720\",\"city_name_eng\":\"tira\",\"x\":196060.80932654, \"y\":661996.4329939},\n",
    "  {\"city_name\":  \"מודיעין\",\"obj_id\": \"1200\",\"city_name_eng\":\"modiin\",\"x\":196060.80932654, \"y\":661996.4329939},\n",
    "  {\"city_name\":  \"נתניה\",\"obj_id\": \"7400\",\"city_name_eng\":\"netania\",\"x\":196060.80932654, \"y\":661996.4329939},\n",
    "  {\"city_name\":  \"נס ציונה\",\"obj_id\": \"7200\",\"city_name_eng\":\"ness ziona\",\"x\":196060.80932654, \"y\":661996.4329939},\n",
    "{\"city_name\":  \"אשדוד\",\"obj_id\": \"70\",\"city_name_eng\":\"ashdod\",\"x\":196060.80932654, \"y\":661996.4329939}\n",
    "]"
   ]
  },
  {
   "cell_type": "code",
   "execution_count": 10,
   "id": "dcdb94b6-4c44-437d-84cf-84fc5fea0215",
   "metadata": {},
   "outputs": [
    {
     "data": {
      "text/plain": [
       "['nadlan_till_55000.csv',\n",
       " 'nadlan_till_59000.csv',\n",
       " '.DS_Store',\n",
       " 'nadlan_till_108000.csv',\n",
       " 'nadlan_till_95327.csv',\n",
       " 'nadlan_till_41000.csv',\n",
       " 'nadlan_till_69000.csv',\n",
       " 'nadlan_till_18000.csv',\n",
       " 'nadlan_till_98000.csv',\n",
       " 'nadlan_till_0.csv',\n",
       " 'nadlan_till_37000.csv',\n",
       " 'nadlan_till_62000.csv',\n",
       " 'nadlan_till_39000.csv',\n",
       " 'nadlan_till_56000.csv',\n",
       " 'nadlan_till_109000.csv',\n",
       " 'nadlan_till_23000.csv',\n",
       " 'nadlan_till_99000.csv',\n",
       " 'nadlan_till_87000.csv',\n",
       " 'nadlan_till_66000.csv',\n",
       " 'nadlan_till_50000.csv',\n",
       " 'nadlan_till_33000.csv']"
      ]
     },
     "execution_count": 10,
     "metadata": {},
     "output_type": "execute_result"
    }
   ],
   "source": [
    "import os\n",
    "os.listdir(\"../tmp/\")"
   ]
  },
  {
   "cell_type": "code",
   "execution_count": 28,
   "id": "c2e55c21-e659-4272-b8db-df3e4369083b",
   "metadata": {},
   "outputs": [],
   "source": [
    "folder_path = \"../nadlan/tmp/\""
   ]
  },
  {
   "cell_type": "code",
   "execution_count": 34,
   "id": "d91e7c58-5a07-4e0d-b665-a80dd3b608ea",
   "metadata": {},
   "outputs": [
    {
     "name": "stdout",
     "output_type": "stream",
     "text": [
      "אשדוד 70 ashdod 196060.80932654 661996.4329939\n"
     ]
    },
    {
     "name": "stderr",
     "output_type": "stream",
     "text": [
      "100%|█████████████████████████████████████████| 200/200 [19:46<00:00,  5.93s/it]\n",
      "100%|█████████████████████████████████████████| 200/200 [19:55<00:00,  5.98s/it]\n",
      "100%|█████████████████████████████████████████| 200/200 [19:38<00:00,  5.89s/it]\n",
      "100%|█████████████████████████████████████████| 200/200 [22:01<00:00,  6.61s/it]\n"
     ]
    },
    {
     "ename": "OSError",
     "evalue": "[Errno 28] No space left on device",
     "output_type": "error",
     "traceback": [
      "\u001b[0;31m---------------------------------------------------------------------------\u001b[0m",
      "\u001b[0;31mOSError\u001b[0m                                   Traceback (most recent call last)",
      "Cell \u001b[0;32mIn[34], line 39\u001b[0m\n\u001b[1;32m     37\u001b[0m     df\u001b[38;5;241m=\u001b[39m pd\u001b[38;5;241m.\u001b[39mDataFrame(r[\u001b[38;5;124m\"\u001b[39m\u001b[38;5;124mAllResults\u001b[39m\u001b[38;5;124m\"\u001b[39m])\n\u001b[1;32m     38\u001b[0m     df_full \u001b[38;5;241m=\u001b[39m pd\u001b[38;5;241m.\u001b[39mconcat([df,df_full])\n\u001b[0;32m---> 39\u001b[0m \u001b[43mdf_full\u001b[49m\u001b[38;5;241;43m.\u001b[39;49m\u001b[43mto_csv\u001b[49m\u001b[43m(\u001b[49m\u001b[38;5;124;43mf\u001b[39;49m\u001b[38;5;124;43m\"\u001b[39;49m\u001b[38;5;132;43;01m{\u001b[39;49;00m\u001b[43mfolder_path\u001b[49m\u001b[38;5;132;43;01m}\u001b[39;49;00m\u001b[38;5;132;43;01m{\u001b[39;49;00m\u001b[43mcity_name_eng\u001b[49m\u001b[38;5;132;43;01m}\u001b[39;49;00m\u001b[38;5;124;43m_nadlan_pages_\u001b[39;49m\u001b[38;5;132;43;01m{\u001b[39;49;00m\u001b[43mstart_n\u001b[49m\u001b[38;5;241;43m+\u001b[39;49m\u001b[38;5;241;43m200\u001b[39;49m\u001b[38;5;132;43;01m}\u001b[39;49;00m\u001b[38;5;124;43m.csv\u001b[39;49m\u001b[38;5;124;43m\"\u001b[39;49m\u001b[43m)\u001b[49m\n",
      "File \u001b[0;32m/opt/homebrew/anaconda3/envs/spatial_analysis_course/lib/python3.11/site-packages/pandas/core/generic.py:3902\u001b[0m, in \u001b[0;36mNDFrame.to_csv\u001b[0;34m(self, path_or_buf, sep, na_rep, float_format, columns, header, index, index_label, mode, encoding, compression, quoting, quotechar, lineterminator, chunksize, date_format, doublequote, escapechar, decimal, errors, storage_options)\u001b[0m\n\u001b[1;32m   3891\u001b[0m df \u001b[38;5;241m=\u001b[39m \u001b[38;5;28mself\u001b[39m \u001b[38;5;28;01mif\u001b[39;00m \u001b[38;5;28misinstance\u001b[39m(\u001b[38;5;28mself\u001b[39m, ABCDataFrame) \u001b[38;5;28;01melse\u001b[39;00m \u001b[38;5;28mself\u001b[39m\u001b[38;5;241m.\u001b[39mto_frame()\n\u001b[1;32m   3893\u001b[0m formatter \u001b[38;5;241m=\u001b[39m DataFrameFormatter(\n\u001b[1;32m   3894\u001b[0m     frame\u001b[38;5;241m=\u001b[39mdf,\n\u001b[1;32m   3895\u001b[0m     header\u001b[38;5;241m=\u001b[39mheader,\n\u001b[0;32m   (...)\u001b[0m\n\u001b[1;32m   3899\u001b[0m     decimal\u001b[38;5;241m=\u001b[39mdecimal,\n\u001b[1;32m   3900\u001b[0m )\n\u001b[0;32m-> 3902\u001b[0m \u001b[38;5;28;01mreturn\u001b[39;00m \u001b[43mDataFrameRenderer\u001b[49m\u001b[43m(\u001b[49m\u001b[43mformatter\u001b[49m\u001b[43m)\u001b[49m\u001b[38;5;241;43m.\u001b[39;49m\u001b[43mto_csv\u001b[49m\u001b[43m(\u001b[49m\n\u001b[1;32m   3903\u001b[0m \u001b[43m    \u001b[49m\u001b[43mpath_or_buf\u001b[49m\u001b[43m,\u001b[49m\n\u001b[1;32m   3904\u001b[0m \u001b[43m    \u001b[49m\u001b[43mlineterminator\u001b[49m\u001b[38;5;241;43m=\u001b[39;49m\u001b[43mlineterminator\u001b[49m\u001b[43m,\u001b[49m\n\u001b[1;32m   3905\u001b[0m \u001b[43m    \u001b[49m\u001b[43msep\u001b[49m\u001b[38;5;241;43m=\u001b[39;49m\u001b[43msep\u001b[49m\u001b[43m,\u001b[49m\n\u001b[1;32m   3906\u001b[0m \u001b[43m    \u001b[49m\u001b[43mencoding\u001b[49m\u001b[38;5;241;43m=\u001b[39;49m\u001b[43mencoding\u001b[49m\u001b[43m,\u001b[49m\n\u001b[1;32m   3907\u001b[0m \u001b[43m    \u001b[49m\u001b[43merrors\u001b[49m\u001b[38;5;241;43m=\u001b[39;49m\u001b[43merrors\u001b[49m\u001b[43m,\u001b[49m\n\u001b[1;32m   3908\u001b[0m \u001b[43m    \u001b[49m\u001b[43mcompression\u001b[49m\u001b[38;5;241;43m=\u001b[39;49m\u001b[43mcompression\u001b[49m\u001b[43m,\u001b[49m\n\u001b[1;32m   3909\u001b[0m \u001b[43m    \u001b[49m\u001b[43mquoting\u001b[49m\u001b[38;5;241;43m=\u001b[39;49m\u001b[43mquoting\u001b[49m\u001b[43m,\u001b[49m\n\u001b[1;32m   3910\u001b[0m \u001b[43m    \u001b[49m\u001b[43mcolumns\u001b[49m\u001b[38;5;241;43m=\u001b[39;49m\u001b[43mcolumns\u001b[49m\u001b[43m,\u001b[49m\n\u001b[1;32m   3911\u001b[0m \u001b[43m    \u001b[49m\u001b[43mindex_label\u001b[49m\u001b[38;5;241;43m=\u001b[39;49m\u001b[43mindex_label\u001b[49m\u001b[43m,\u001b[49m\n\u001b[1;32m   3912\u001b[0m \u001b[43m    \u001b[49m\u001b[43mmode\u001b[49m\u001b[38;5;241;43m=\u001b[39;49m\u001b[43mmode\u001b[49m\u001b[43m,\u001b[49m\n\u001b[1;32m   3913\u001b[0m \u001b[43m    \u001b[49m\u001b[43mchunksize\u001b[49m\u001b[38;5;241;43m=\u001b[39;49m\u001b[43mchunksize\u001b[49m\u001b[43m,\u001b[49m\n\u001b[1;32m   3914\u001b[0m \u001b[43m    \u001b[49m\u001b[43mquotechar\u001b[49m\u001b[38;5;241;43m=\u001b[39;49m\u001b[43mquotechar\u001b[49m\u001b[43m,\u001b[49m\n\u001b[1;32m   3915\u001b[0m \u001b[43m    \u001b[49m\u001b[43mdate_format\u001b[49m\u001b[38;5;241;43m=\u001b[39;49m\u001b[43mdate_format\u001b[49m\u001b[43m,\u001b[49m\n\u001b[1;32m   3916\u001b[0m \u001b[43m    \u001b[49m\u001b[43mdoublequote\u001b[49m\u001b[38;5;241;43m=\u001b[39;49m\u001b[43mdoublequote\u001b[49m\u001b[43m,\u001b[49m\n\u001b[1;32m   3917\u001b[0m \u001b[43m    \u001b[49m\u001b[43mescapechar\u001b[49m\u001b[38;5;241;43m=\u001b[39;49m\u001b[43mescapechar\u001b[49m\u001b[43m,\u001b[49m\n\u001b[1;32m   3918\u001b[0m \u001b[43m    \u001b[49m\u001b[43mstorage_options\u001b[49m\u001b[38;5;241;43m=\u001b[39;49m\u001b[43mstorage_options\u001b[49m\u001b[43m,\u001b[49m\n\u001b[1;32m   3919\u001b[0m \u001b[43m\u001b[49m\u001b[43m)\u001b[49m\n",
      "File \u001b[0;32m/opt/homebrew/anaconda3/envs/spatial_analysis_course/lib/python3.11/site-packages/pandas/io/formats/format.py:1152\u001b[0m, in \u001b[0;36mDataFrameRenderer.to_csv\u001b[0;34m(self, path_or_buf, encoding, sep, columns, index_label, mode, compression, quoting, quotechar, lineterminator, chunksize, date_format, doublequote, escapechar, errors, storage_options)\u001b[0m\n\u001b[1;32m   1131\u001b[0m     created_buffer \u001b[38;5;241m=\u001b[39m \u001b[38;5;28;01mFalse\u001b[39;00m\n\u001b[1;32m   1133\u001b[0m csv_formatter \u001b[38;5;241m=\u001b[39m CSVFormatter(\n\u001b[1;32m   1134\u001b[0m     path_or_buf\u001b[38;5;241m=\u001b[39mpath_or_buf,\n\u001b[1;32m   1135\u001b[0m     lineterminator\u001b[38;5;241m=\u001b[39mlineterminator,\n\u001b[0;32m   (...)\u001b[0m\n\u001b[1;32m   1150\u001b[0m     formatter\u001b[38;5;241m=\u001b[39m\u001b[38;5;28mself\u001b[39m\u001b[38;5;241m.\u001b[39mfmt,\n\u001b[1;32m   1151\u001b[0m )\n\u001b[0;32m-> 1152\u001b[0m \u001b[43mcsv_formatter\u001b[49m\u001b[38;5;241;43m.\u001b[39;49m\u001b[43msave\u001b[49m\u001b[43m(\u001b[49m\u001b[43m)\u001b[49m\n\u001b[1;32m   1154\u001b[0m \u001b[38;5;28;01mif\u001b[39;00m created_buffer:\n\u001b[1;32m   1155\u001b[0m     \u001b[38;5;28;01massert\u001b[39;00m \u001b[38;5;28misinstance\u001b[39m(path_or_buf, StringIO)\n",
      "File \u001b[0;32m/opt/homebrew/anaconda3/envs/spatial_analysis_course/lib/python3.11/site-packages/pandas/io/formats/csvs.py:266\u001b[0m, in \u001b[0;36mCSVFormatter.save\u001b[0;34m(self)\u001b[0m\n\u001b[1;32m    247\u001b[0m \u001b[38;5;28;01mwith\u001b[39;00m get_handle(\n\u001b[1;32m    248\u001b[0m     \u001b[38;5;28mself\u001b[39m\u001b[38;5;241m.\u001b[39mfilepath_or_buffer,\n\u001b[1;32m    249\u001b[0m     \u001b[38;5;28mself\u001b[39m\u001b[38;5;241m.\u001b[39mmode,\n\u001b[0;32m   (...)\u001b[0m\n\u001b[1;32m    254\u001b[0m ) \u001b[38;5;28;01mas\u001b[39;00m handles:\n\u001b[1;32m    255\u001b[0m     \u001b[38;5;66;03m# Note: self.encoding is irrelevant here\u001b[39;00m\n\u001b[1;32m    256\u001b[0m     \u001b[38;5;28mself\u001b[39m\u001b[38;5;241m.\u001b[39mwriter \u001b[38;5;241m=\u001b[39m csvlib\u001b[38;5;241m.\u001b[39mwriter(\n\u001b[1;32m    257\u001b[0m         handles\u001b[38;5;241m.\u001b[39mhandle,\n\u001b[1;32m    258\u001b[0m         lineterminator\u001b[38;5;241m=\u001b[39m\u001b[38;5;28mself\u001b[39m\u001b[38;5;241m.\u001b[39mlineterminator,\n\u001b[0;32m   (...)\u001b[0m\n\u001b[1;32m    263\u001b[0m         quotechar\u001b[38;5;241m=\u001b[39m\u001b[38;5;28mself\u001b[39m\u001b[38;5;241m.\u001b[39mquotechar,\n\u001b[1;32m    264\u001b[0m     )\n\u001b[0;32m--> 266\u001b[0m     \u001b[38;5;28;43mself\u001b[39;49m\u001b[38;5;241;43m.\u001b[39;49m\u001b[43m_save\u001b[49m\u001b[43m(\u001b[49m\u001b[43m)\u001b[49m\n",
      "File \u001b[0;32m/opt/homebrew/anaconda3/envs/spatial_analysis_course/lib/python3.11/site-packages/pandas/io/formats/csvs.py:271\u001b[0m, in \u001b[0;36mCSVFormatter._save\u001b[0;34m(self)\u001b[0m\n\u001b[1;32m    269\u001b[0m \u001b[38;5;28;01mif\u001b[39;00m \u001b[38;5;28mself\u001b[39m\u001b[38;5;241m.\u001b[39m_need_to_save_header:\n\u001b[1;32m    270\u001b[0m     \u001b[38;5;28mself\u001b[39m\u001b[38;5;241m.\u001b[39m_save_header()\n\u001b[0;32m--> 271\u001b[0m \u001b[38;5;28;43mself\u001b[39;49m\u001b[38;5;241;43m.\u001b[39;49m\u001b[43m_save_body\u001b[49m\u001b[43m(\u001b[49m\u001b[43m)\u001b[49m\n",
      "File \u001b[0;32m/opt/homebrew/anaconda3/envs/spatial_analysis_course/lib/python3.11/site-packages/pandas/io/formats/csvs.py:309\u001b[0m, in \u001b[0;36mCSVFormatter._save_body\u001b[0;34m(self)\u001b[0m\n\u001b[1;32m    307\u001b[0m \u001b[38;5;28;01mif\u001b[39;00m start_i \u001b[38;5;241m>\u001b[39m\u001b[38;5;241m=\u001b[39m end_i:\n\u001b[1;32m    308\u001b[0m     \u001b[38;5;28;01mbreak\u001b[39;00m\n\u001b[0;32m--> 309\u001b[0m \u001b[38;5;28;43mself\u001b[39;49m\u001b[38;5;241;43m.\u001b[39;49m\u001b[43m_save_chunk\u001b[49m\u001b[43m(\u001b[49m\u001b[43mstart_i\u001b[49m\u001b[43m,\u001b[49m\u001b[43m \u001b[49m\u001b[43mend_i\u001b[49m\u001b[43m)\u001b[49m\n",
      "File \u001b[0;32m/opt/homebrew/anaconda3/envs/spatial_analysis_course/lib/python3.11/site-packages/pandas/io/formats/csvs.py:320\u001b[0m, in \u001b[0;36mCSVFormatter._save_chunk\u001b[0;34m(self, start_i, end_i)\u001b[0m\n\u001b[1;32m    317\u001b[0m data \u001b[38;5;241m=\u001b[39m [res\u001b[38;5;241m.\u001b[39miget_values(i) \u001b[38;5;28;01mfor\u001b[39;00m i \u001b[38;5;129;01min\u001b[39;00m \u001b[38;5;28mrange\u001b[39m(\u001b[38;5;28mlen\u001b[39m(res\u001b[38;5;241m.\u001b[39mitems))]\n\u001b[1;32m    319\u001b[0m ix \u001b[38;5;241m=\u001b[39m \u001b[38;5;28mself\u001b[39m\u001b[38;5;241m.\u001b[39mdata_index[slicer]\u001b[38;5;241m.\u001b[39m_format_native_types(\u001b[38;5;241m*\u001b[39m\u001b[38;5;241m*\u001b[39m\u001b[38;5;28mself\u001b[39m\u001b[38;5;241m.\u001b[39m_number_format)\n\u001b[0;32m--> 320\u001b[0m \u001b[43mlibwriters\u001b[49m\u001b[38;5;241;43m.\u001b[39;49m\u001b[43mwrite_csv_rows\u001b[49m\u001b[43m(\u001b[49m\n\u001b[1;32m    321\u001b[0m \u001b[43m    \u001b[49m\u001b[43mdata\u001b[49m\u001b[43m,\u001b[49m\n\u001b[1;32m    322\u001b[0m \u001b[43m    \u001b[49m\u001b[43mix\u001b[49m\u001b[43m,\u001b[49m\n\u001b[1;32m    323\u001b[0m \u001b[43m    \u001b[49m\u001b[38;5;28;43mself\u001b[39;49m\u001b[38;5;241;43m.\u001b[39;49m\u001b[43mnlevels\u001b[49m\u001b[43m,\u001b[49m\n\u001b[1;32m    324\u001b[0m \u001b[43m    \u001b[49m\u001b[38;5;28;43mself\u001b[39;49m\u001b[38;5;241;43m.\u001b[39;49m\u001b[43mcols\u001b[49m\u001b[43m,\u001b[49m\n\u001b[1;32m    325\u001b[0m \u001b[43m    \u001b[49m\u001b[38;5;28;43mself\u001b[39;49m\u001b[38;5;241;43m.\u001b[39;49m\u001b[43mwriter\u001b[49m\u001b[43m,\u001b[49m\n\u001b[1;32m    326\u001b[0m \u001b[43m\u001b[49m\u001b[43m)\u001b[49m\n",
      "File \u001b[0;32mwriters.pyx:55\u001b[0m, in \u001b[0;36mpandas._libs.writers.write_csv_rows\u001b[0;34m()\u001b[0m\n",
      "\u001b[0;31mOSError\u001b[0m: [Errno 28] No space left on device"
     ]
    }
   ],
   "source": [
    "for n in dict_data[17:]:\n",
    "    city_name, objid, city_name_eng,X,Y = n.values()\n",
    "    nav_text = None\n",
    "    print(city_name, objid, city_name_eng,X,Y)\n",
    "    df_full=pd.DataFrame()\n",
    "    list_res=[]\n",
    "    for start_n in np.arange(1,1801,200):\n",
    "        if f\"{city_name_eng}_nadlan_pages_{start_n+200}.csv\" in os.listdir(folder_path):\n",
    "            continue\n",
    "        end_n = 200+start_n\n",
    "        for pagenum in tqdm(range(start_n,end_n)):\n",
    "            data = {\"MoreAssestsType\":0,\"FillterRoomNum\":0,\"GridDisplayType\":0,\n",
    "                    \"ResultLable\":city_name,\n",
    "                    \"ResultType\":1,\n",
    "                    \"ObjectID\":objid,\"ObjectIDType\":\"text\",\"ObjectKey\":\"UNIQ_ID\",\n",
    "                    \"DescLayerID\":\"SETL_MID_POINT\",\"Alert\":None,\n",
    "                    \"X\":X,\n",
    "                    \"Y\":Y,\n",
    "                    \"Gush\":\"\",\"Parcel\":\"\",\"showLotParcel\":True,\n",
    "                    \"showLotAddress\":True,\"OriginalSearchString\":city_name,\"MutipuleResults\":False,\n",
    "                    \"ResultsOptions\":None,\n",
    "                    \"CurrentLavel\":2,\n",
    "                    \"Navs\":[{\"text\":nav_text,\"url\":None,\"order\":1}],\n",
    "                    \"QueryMapParams\":{\"QueryToRun\":None,\"QueryObjectID\":objid,\"QueryObjectType\":\"number\",\n",
    "                                      \"QueryObjectKey\":\"SETL_CODE\",\"QueryDescLayerID\":\"KSHTANN_SETL_AREA\",\"SpacialWhereClause\":None},\n",
    "                    \"isHistorical\":True,\n",
    "                    \"PageNo\":pagenum,\n",
    "                    \"OrderByFilled\":\"DEALDATETIME\",\"OrderByDescending\":True,\"Distance\":0}\n",
    "            res = requests.post(url, json=data)\n",
    "            if res.status_code !=200: \n",
    "                break\n",
    "            result = res.json()\n",
    "            if  len(result[\"AllResults\"])==0:\n",
    "                break\n",
    "            list_res.append(result)\n",
    "        for r in list_res:\n",
    "            df= pd.DataFrame(r[\"AllResults\"])\n",
    "            df_full = pd.concat([df,df_full])\n",
    "        df_full.to_csv(f\"{folder_path}{city_name_eng}_nadlan_pages_{start_n+200}.csv\")"
   ]
  },
  {
   "cell_type": "code",
   "execution_count": null,
   "id": "02e790ed-2a8f-4254-be42-5ece1e4d4e3a",
   "metadata": {},
   "outputs": [],
   "source": []
  }
 ],
 "metadata": {
  "kernelspec": {
   "display_name": "env_geocourse",
   "language": "python",
   "name": "env_geocourse"
  },
  "language_info": {
   "codemirror_mode": {
    "name": "ipython",
    "version": 3
   },
   "file_extension": ".py",
   "mimetype": "text/x-python",
   "name": "python",
   "nbconvert_exporter": "python",
   "pygments_lexer": "ipython3",
   "version": "3.11.5"
  }
 },
 "nbformat": 4,
 "nbformat_minor": 5
}
