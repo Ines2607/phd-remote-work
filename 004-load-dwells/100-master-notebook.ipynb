{
 "cells": [
  {
   "cell_type": "markdown",
   "id": "c705b4b1-e26a-405e-a5f1-4e411d564c05",
   "metadata": {},
   "source": [
    "## Description:\n",
    " This notebooks runs python script that divide quarter parquet on monthly, filter out rare ids and signals outside study area. As each quarter file is very big we upload them one by one and remove after processing. So this code is supposed to be rerun many times"
   ]
  },
  {
   "cell_type": "code",
   "execution_count": 1,
   "id": "26ba0a18-6ec5-41ed-8a44-60d252098175",
   "metadata": {},
   "outputs": [],
   "source": [
    "import subprocess\n",
    "import os\n",
    "from geofunctions import utils"
   ]
  },
  {
   "cell_type": "code",
   "execution_count": 2,
   "id": "3521bc84-147f-4bc9-a641-38a8b61dd3e3",
   "metadata": {
    "scrolled": true
   },
   "outputs": [],
   "source": [
    "\n",
    "path_dir = utils.get_path( \"raw\",\"dwells\")"
   ]
  },
  {
   "cell_type": "code",
   "execution_count": 3,
   "id": "4b9452e0-f428-4844-a9d8-88258882d741",
   "metadata": {},
   "outputs": [],
   "source": [
    "month_list=[]"
   ]
  },
  {
   "cell_type": "code",
   "execution_count": 4,
   "id": "a055b654-880a-4ccd-a867-6424ae8198c8",
   "metadata": {
    "scrolled": true
   },
   "outputs": [],
   "source": [
    "for filename in os.listdir(path_dir):\n",
    "    if \"full\" in filename:\n",
    "        month_list.append(filename.split(\"_\")[0])"
   ]
  },
  {
   "cell_type": "code",
   "execution_count": 5,
   "id": "eaad87d0-e07d-4e41-b868-d4a708f7fbb5",
   "metadata": {},
   "outputs": [],
   "source": [
    "env='spatial_analytics_course'"
   ]
  },
  {
   "cell_type": "code",
   "execution_count": 6,
   "id": "87381af2",
   "metadata": {},
   "outputs": [
    {
     "data": {
      "text/plain": [
       "['202310', '202307']"
      ]
     },
     "execution_count": 6,
     "metadata": {},
     "output_type": "execute_result"
    }
   ],
   "source": [
    "month_list"
   ]
  },
  {
   "cell_type": "code",
   "execution_count": 18,
   "id": "26a0c390-af6f-47af-8a12-b9b63473f9f1",
   "metadata": {},
   "outputs": [
    {
     "name": "stdout",
     "output_type": "stream",
     "text": [
      "202307\n",
      "/Users/inessat/Documents/phd/empirics/israel/raw_data/data_dwells/data_filtered_202306.parquet\n",
      "we read file for 202306 \n",
      "original size (<dask_expr.expr.Scalar: expr=ReadParquetFSSpec(2110cdf).size() // 13, dtype=int64>, 13)\n",
      "after filter by coords size (<dask_expr.expr.Scalar: expr=(Filter(frame=MapPartitions(set_geometry), predicate=UFunc(within))).size() // 14, dtype=int64>, 14)\n",
      "we filtered file\n",
      "(5779561, 22)\n",
      "99196 ids of original  ids\n",
      "partquet saved\n",
      "/Users/inessat/Documents/phd/empirics/israel/raw_data/data_dwells/data_filtered_202305.parquet\n",
      "flitered file already exists\n",
      "\n"
     ]
    }
   ],
   "source": [
    "for month in month_list[1:]:\n",
    "    print(month)\n",
    "    subprocess.run(['conda','run','-n',env,'python', '002-run-quarter-data.py', '--quarter', month])\n",
    "    "
   ]
  },
  {
   "cell_type": "code",
   "execution_count": null,
   "id": "d2b993c6",
   "metadata": {},
   "outputs": [],
   "source": [
    "boundaries = gpd.read_file(os.path.join(geometry_folder, \"gushdan_polygon.geojson\"))\n",
    "boundaries = boundaries.iloc[0][\"geometry\"]"
   ]
  },
  {
   "cell_type": "code",
   "execution_count": null,
   "id": "6ed35e56-25ce-4447-b7cd-e88fa3d2bb9d",
   "metadata": {},
   "outputs": [],
   "source": []
  }
 ],
 "metadata": {
  "kernelspec": {
   "display_name": "spatial_analytics_course",
   "language": "python",
   "name": "python3"
  },
  "language_info": {
   "codemirror_mode": {
    "name": "ipython",
    "version": 3
   },
   "file_extension": ".py",
   "mimetype": "text/x-python",
   "name": "python",
   "nbconvert_exporter": "python",
   "pygments_lexer": "ipython3",
   "version": "3.12.7"
  }
 },
 "nbformat": 4,
 "nbformat_minor": 5
}
