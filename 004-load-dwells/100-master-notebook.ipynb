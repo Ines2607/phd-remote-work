{
 "cells": [
  {
   "cell_type": "markdown",
   "id": "c705b4b1-e26a-405e-a5f1-4e411d564c05",
   "metadata": {},
   "source": [
    "## Description:\n",
    " This notebooks runs python script that divide quarter parquet on monthly, filter out rare ids and signals outside study area. As each quarter file is very big we upload them one by one and remove after processing. So this code is supposed to be rerun many times"
   ]
  },
  {
   "cell_type": "code",
   "execution_count": null,
   "id": "26ba0a18-6ec5-41ed-8a44-60d252098175",
   "metadata": {},
   "outputs": [],
   "source": [
    "import subprocess\n",
    "import os\n",
    "from geofunctions import utils"
   ]
  },
  {
   "cell_type": "code",
   "execution_count": null,
   "id": "3521bc84-147f-4bc9-a641-38a8b61dd3e3",
   "metadata": {
    "scrolled": true
   },
   "outputs": [],
   "source": [
    "\n",
    "path_dir = utils.get_path( \"raw\",\"dwells\")"
   ]
  },
  {
   "cell_type": "code",
   "execution_count": null,
   "id": "4b9452e0-f428-4844-a9d8-88258882d741",
   "metadata": {},
   "outputs": [],
   "source": [
    "month_list=[]"
   ]
  },
  {
   "cell_type": "code",
   "execution_count": null,
   "id": "a055b654-880a-4ccd-a867-6424ae8198c8",
   "metadata": {
    "scrolled": true
   },
   "outputs": [],
   "source": [
    "for filename in os.listdir(path_dir):\n",
    "    if \"full\" in filename:\n",
    "        month_list.append(filename.split(\"_\")[0])"
   ]
  },
  {
   "cell_type": "code",
   "execution_count": null,
   "id": "eaad87d0-e07d-4e41-b868-d4a708f7fbb5",
   "metadata": {},
   "outputs": [],
   "source": [
    "env='spatial_analytics_course'"
   ]
  },
  {
   "cell_type": "code",
   "execution_count": null,
   "id": "26a0c390-af6f-47af-8a12-b9b63473f9f1",
   "metadata": {},
   "outputs": [],
   "source": [
    "for month in month_list:\n",
    "    print(month)\n",
    "    subprocess.run(['conda','run','-n',env,'python', '002-run-quarter-data.py', '--quarter', month])\n",
    "    "
   ]
  },
  {
   "cell_type": "code",
   "execution_count": null,
   "id": "6ed35e56-25ce-4447-b7cd-e88fa3d2bb9d",
   "metadata": {},
   "outputs": [],
   "source": []
  }
 ],
 "metadata": {
  "kernelspec": {
   "display_name": "spatial_analytics_course",
   "language": "python",
   "name": "python3"
  },
  "language_info": {
   "codemirror_mode": {
    "name": "ipython",
    "version": 3
   },
   "file_extension": ".py",
   "mimetype": "text/x-python",
   "name": "python",
   "nbconvert_exporter": "python",
   "pygments_lexer": "ipython3",
   "version": "3.12.7"
  }
 },
 "nbformat": 4,
 "nbformat_minor": 5
}
