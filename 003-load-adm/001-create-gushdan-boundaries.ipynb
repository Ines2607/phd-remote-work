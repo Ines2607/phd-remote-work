{
 "cells": [
  {
   "cell_type": "code",
   "execution_count": 1,
   "id": "3befb376-93d4-4fa0-8aee-5a4a329af3be",
   "metadata": {},
   "outputs": [],
   "source": [
    "import geopandas as gpd\n",
    "from geofunctions import utils"
   ]
  },
  {
   "cell_type": "code",
   "execution_count": 2,
   "id": "97191e29-e755-49a9-9270-d6142d0136ac",
   "metadata": {},
   "outputs": [],
   "source": [
    "\n",
    "file_path = utils.get_path(\"raw\",\"adm\",'sub_gush_all/SUB_GUSH_ALL.shp')"
   ]
  },
  {
   "cell_type": "code",
   "execution_count": 4,
   "id": "fa46f30c-3e4c-4c0f-8aea-b82d27a7c22e",
   "metadata": {
    "scrolled": true
   },
   "outputs": [],
   "source": [
    "gushs_all = gpd.read_file(file_path, encoding='cp1255')"
   ]
  },
  {
   "cell_type": "code",
   "execution_count": null,
   "id": "b0da3f9a-70e7-4cd3-8f56-14b5ef263539",
   "metadata": {
    "scrolled": true
   },
   "outputs": [],
   "source": [
    "gushs_all[\"REGION_NAM\"].unique()"
   ]
  },
  {
   "cell_type": "code",
   "execution_count": null,
   "id": "98f9c5c2-41ae-4806-8561-7ce9b5397d4a",
   "metadata": {},
   "outputs": [],
   "source": [
    "# only central area\n",
    "gushdan = gushs_all[gushs_all[\"REGION_NAM\"].isin([ 'המרכ','תל-אבי'])]"
   ]
  },
  {
   "cell_type": "code",
   "execution_count": null,
   "id": "388b9119-4e30-4a33-8d7a-6ee6c3fcd97a",
   "metadata": {},
   "outputs": [],
   "source": [
    "# merge all areas to one geometry\n",
    "gushdan_polygon_df = gushdan.dissolve()\n",
    "\n",
    "gushdan_polygon_df = gushdan_polygon_df[[\"geometry\"]]"
   ]
  },
  {
   "cell_type": "code",
   "execution_count": null,
   "id": "9320bb60-60e9-4048-b684-308286e9e5bf",
   "metadata": {},
   "outputs": [],
   "source": [
    "gushdan_polygon_df.geometry"
   ]
  },
  {
   "cell_type": "code",
   "execution_count": null,
   "id": "5a8b8f36-84f5-468e-8605-c0c682728f17",
   "metadata": {},
   "outputs": [],
   "source": [
    "def get_largest_polygon(geometry):\n",
    "    # Sort polygons by area and return the largest\n",
    "    return max(geometry.geoms, key=lambda polygon: polygon.area)\n",
    "\n",
    "# Apply the function to extract the largest polygon\n",
    "gushdan_polygon_df['geometry'] = gushdan_polygon_df['geometry'].apply(get_largest_polygon)\n"
   ]
  },
  {
   "cell_type": "code",
   "execution_count": null,
   "id": "ed8b3219-b925-4a52-925b-5a12f80eb941",
   "metadata": {},
   "outputs": [],
   "source": [
    "gushdan_polygon_df[\"area_name\"]='gushdan'"
   ]
  },
  {
   "cell_type": "code",
   "execution_count": null,
   "id": "8730feff-11d4-4377-849a-b388465f178d",
   "metadata": {},
   "outputs": [],
   "source": [
    "gushdan_polygon_df = gushdan_polygon_df.to_crs(4326)"
   ]
  },
  {
   "cell_type": "code",
   "execution_count": null,
   "id": "70017322-3938-4618-9db3-eb2ab1d73181",
   "metadata": {},
   "outputs": [],
   "source": [
    "gushdan_polygon_df.buffer(0.001).explore()"
   ]
  },
  {
   "cell_type": "code",
   "execution_count": null,
   "id": "dfef5f6b-6711-4ef9-9463-ad2a75a3b8b3",
   "metadata": {},
   "outputs": [],
   "source": [
    "# artificially remove small holes\n",
    "gushdan_polygon_df = gushdan_polygon_df.buffer(0.001)"
   ]
  },
  {
   "cell_type": "code",
   "execution_count": null,
   "id": "3c1ca47d-dcb8-4a33-9f47-eaf49e6f0587",
   "metadata": {},
   "outputs": [],
   "source": [
    "gushdan_polygon_df.to_file(utils.get_path(\"processed\",\"adm\",\"gushdan_polygon.geojson\"))"
   ]
  },
  {
   "cell_type": "code",
   "execution_count": null,
   "id": "d408f77f-a1da-42c8-9a36-69e88b5448de",
   "metadata": {},
   "outputs": [],
   "source": []
  }
 ],
 "metadata": {
  "kernelspec": {
   "display_name": "spatial_analytics_course",
   "language": "python",
   "name": "python3"
  },
  "language_info": {
   "codemirror_mode": {
    "name": "ipython",
    "version": 3
   },
   "file_extension": ".py",
   "mimetype": "text/x-python",
   "name": "python",
   "nbconvert_exporter": "python",
   "pygments_lexer": "ipython3",
   "version": "3.12.7"
  }
 },
 "nbformat": 4,
 "nbformat_minor": 5
}
