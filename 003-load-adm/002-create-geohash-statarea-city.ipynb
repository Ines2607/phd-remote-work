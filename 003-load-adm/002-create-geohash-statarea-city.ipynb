{
 "cells": [
  {
   "cell_type": "code",
   "execution_count": 2,
   "metadata": {},
   "outputs": [],
   "source": [
    "import pandas as pd\n",
    "from geofunctions import utils\n",
    "import geopandas as gpd"
   ]
  },
  {
   "cell_type": "code",
   "execution_count": 3,
   "metadata": {},
   "outputs": [],
   "source": [
    "gdf_gushdan= gpd.read_file(utils.get_path(\"processed\",\"adm\",\"gushdan_polygon.geojson\"))"
   ]
  },
  {
   "cell_type": "code",
   "execution_count": 32,
   "metadata": {},
   "outputs": [
    {
     "name": "stdout",
     "output_type": "stream",
     "text": [
      "Generated 151270 geohashes\n"
     ]
    }
   ],
   "source": [
    "import pygeohash as pgh\n",
    "import geopandas as gpd\n",
    "from shapely.geometry import Polygon, Point\n",
    "import pandas as pd\n",
    "\n",
    "def geohashes_within_area(area_polygon, resolution=7):\n",
    "    \"\"\"\n",
    "    Fills a given area (Polygon) with geohashes of the specified resolution\n",
    "    and returns them as a GeoDataFrame with geometries.\n",
    "\n",
    "    :param area_polygon: A shapely Polygon representing the area.\n",
    "    :param resolution: Geohash resolution (default: 7).\n",
    "    :return: GeoDataFrame with geohashes and their geometries.\n",
    "    \"\"\"\n",
    "    # Get bounds of the area\n",
    "    min_lon, min_lat, max_lon, max_lat = area_polygon.bounds\n",
    "\n",
    "    # Define approximate step size (adjust for finer resolution)\n",
    "    step_lat = 0.001  # Latitude step, finer for higher resolution\n",
    "    step_lon = 0.001  # Longitude step, finer for higher resolution\n",
    "\n",
    "    geohash_list = []\n",
    "\n",
    "    # Iterate over the bounding box\n",
    "    lon = min_lon\n",
    "    while lon < max_lon:\n",
    "        lat = min_lat\n",
    "        while lat < max_lat:\n",
    "            # Generate geohash for the current point\n",
    "            geohash = pgh.encode(lon, lat, precision=resolution)\n",
    "            # Decode geohash to get bounding box\n",
    "            geohash_polygon = utils.geohash_to_polygon(geohash)\n",
    "            # Add geohash if its polygon intersects with the area\n",
    "            if area_polygon.intersects(geohash_polygon):\n",
    "                geohash_list.append({\"geohash\": geohash, \"geometry\": geohash_polygon})\n",
    "            lat += step_lat\n",
    "        lon += step_lon\n",
    "\n",
    "    # Convert to GeoDataFrame\n",
    "    geohash_gdf = gpd.GeoDataFrame(geohash_list, crs=\"EPSG:4326\")\n",
    "    return geohash_gdf\n",
    "\n",
    "# Example: Create a sample area polygon\n",
    "area_polygon = gdf_gushdan.geometry.iloc[0]\n",
    "\n",
    "# Generate geohashes\n",
    "geohashes = geohashes_within_area(area_polygon, resolution=7)\n",
    "\n",
    "# Display results\n",
    "print(f\"Generated {len(geohashes)} geohashes\")\n"
   ]
  },
  {
   "cell_type": "code",
   "execution_count": 34,
   "metadata": {},
   "outputs": [],
   "source": [
    "geohashes = geohashes.drop_duplicates()"
   ]
  },
  {
   "cell_type": "code",
   "execution_count": 41,
   "metadata": {},
   "outputs": [],
   "source": [
    "gushdan_census = gpd.read_file(utils.get_path(\"processed\",\"adm\",\"census_areas_gushdan.geojson\"))"
   ]
  },
  {
   "cell_type": "code",
   "execution_count": 42,
   "metadata": {},
   "outputs": [
    {
     "name": "stdout",
     "output_type": "stream",
     "text": [
      "joined\n",
      "Original shape: 80182, new shape: 74732\n"
     ]
    }
   ],
   "source": [
    "geohashes_gushdan = utils.clip_gdf(geohashes,gushdan_census, how='inner')"
   ]
  },
  {
   "cell_type": "code",
   "execution_count": 44,
   "metadata": {},
   "outputs": [
    {
     "data": {
      "text/plain": [
       "(15826, 17)"
      ]
     },
     "execution_count": 44,
     "metadata": {},
     "output_type": "execute_result"
    }
   ],
   "source": [
    "gdf_geohash.merge(geohashes,on='geohash', how='inner').shape"
   ]
  },
  {
   "cell_type": "code",
   "execution_count": 46,
   "metadata": {},
   "outputs": [
    {
     "data": {
      "text/plain": [
       "Main_Function_Txt\n",
       "מגורים         33113\n",
       "שטח פתוח        6612\n",
       "תעשיה           3424\n",
       "מתחם ציבורי     1755\n",
       "מוסדי            612\n",
       "Name: count, dtype: int64"
      ]
     },
     "execution_count": 46,
     "metadata": {},
     "output_type": "execute_result"
    }
   ],
   "source": [
    "geohashes_gushdan ['Main_Function_Txt'].value_counts()"
   ]
  },
  {
   "cell_type": "code",
   "execution_count": 48,
   "metadata": {},
   "outputs": [],
   "source": [
    "geohashes_gushdan.to_file(utils.get_path(\"processed\", \"adm\", \"geohash_stat_area_pairs.geojson\")\n",
    ")"
   ]
  }
 ],
 "metadata": {
  "kernelspec": {
   "display_name": "spatial_analytics_course",
   "language": "python",
   "name": "python3"
  },
  "language_info": {
   "codemirror_mode": {
    "name": "ipython",
    "version": 3
   },
   "file_extension": ".py",
   "mimetype": "text/x-python",
   "name": "python",
   "nbconvert_exporter": "python",
   "pygments_lexer": "ipython3",
   "version": "3.12.7"
  }
 },
 "nbformat": 4,
 "nbformat_minor": 2
}
