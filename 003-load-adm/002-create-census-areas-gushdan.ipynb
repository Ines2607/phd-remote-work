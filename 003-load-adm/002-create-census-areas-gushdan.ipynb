{
 "cells": [
  {
   "cell_type": "code",
   "execution_count": null,
   "metadata": {},
   "outputs": [],
   "source": [
    "import geopandas as gpd\n",
    "from geofunctions import utils"
   ]
  },
  {
   "cell_type": "code",
   "execution_count": null,
   "metadata": {},
   "outputs": [],
   "source": [
    "import importlib\n",
    "importlib.reload(utils)"
   ]
  },
  {
   "cell_type": "code",
   "execution_count": null,
   "metadata": {},
   "outputs": [],
   "source": [
    "gdf_census = gpd.read_file(\n",
    "    utils.get_path(\"processed\",\"census\", \"census_stat_area_geometry.geojson\")\n",
    ")"
   ]
  },
  {
   "cell_type": "code",
   "execution_count": null,
   "metadata": {},
   "outputs": [],
   "source": [
    "gdf_census = gdf_census.to_crs(4326)"
   ]
  },
  {
   "cell_type": "code",
   "execution_count": null,
   "metadata": {},
   "outputs": [],
   "source": [
    "gdf_gushdan = gpd.read_file(utils.get_path(\"processed\",\"adm\", \"gushdan_polygon.geojson\"))"
   ]
  },
  {
   "cell_type": "code",
   "execution_count": null,
   "metadata": {},
   "outputs": [],
   "source": [
    "boundaries = gdf_gushdan.iloc[0].geometry"
   ]
  },
  {
   "cell_type": "code",
   "execution_count": null,
   "metadata": {},
   "outputs": [],
   "source": [
    "gdf_census_gushdan = gdf_census.clip(boundaries.buffer(0.001))"
   ]
  },
  {
   "cell_type": "code",
   "execution_count": null,
   "metadata": {},
   "outputs": [],
   "source": [
    "gdf_census_gushdan.shape"
   ]
  },
  {
   "cell_type": "code",
   "execution_count": null,
   "metadata": {},
   "outputs": [],
   "source": [
    "gdf_census_gushdan.explore()"
   ]
  },
  {
   "cell_type": "code",
   "execution_count": null,
   "metadata": {},
   "outputs": [],
   "source": [
    "gdf_census_gushdan.columns"
   ]
  },
  {
   "cell_type": "code",
   "execution_count": null,
   "metadata": {},
   "outputs": [],
   "source": [
    "gdf_census_gushdan[\n",
    "    [\n",
    "        \"OBJECTID\",\n",
    "        \"SHEM_YISHUV_HEB\",\n",
    "        \"SHEM_YISHUV_ENG\",\n",
    "        \"SEMEL_YISHUV\",\n",
    "        \"YISHUV_STAT_2022\",\n",
    "        \"STAT_2022\",\n",
    "        \"Stat2022_Unite\",\n",
    "        \"Stat2022_Ref\",\n",
    "        \"Main_Function_Code\",\n",
    "        \"Main_Function_Txt\",\n",
    "        \"ROVA\",\n",
    "        \"TAT_ROVA\",\n",
    "        \"geometry\",\n",
    "    ]\n",
    "].to_crs(4326).to_file(utils.get_path(\"processed\",\"adm\",\"census_areas_gushdan.geojson\"))"
   ]
  },
  {
   "cell_type": "code",
   "execution_count": null,
   "metadata": {},
   "outputs": [],
   "source": []
  },
  {
   "cell_type": "code",
   "execution_count": null,
   "metadata": {},
   "outputs": [],
   "source": []
  }
 ],
 "metadata": {
  "kernelspec": {
   "display_name": "spatial_analytics_course",
   "language": "python",
   "name": "python3"
  },
  "language_info": {
   "codemirror_mode": {
    "name": "ipython",
    "version": 3
   },
   "file_extension": ".py",
   "mimetype": "text/x-python",
   "name": "python",
   "nbconvert_exporter": "python",
   "pygments_lexer": "ipython3",
   "version": "3.12.7"
  }
 },
 "nbformat": 4,
 "nbformat_minor": 2
}
